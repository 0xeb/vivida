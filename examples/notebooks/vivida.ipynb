{
 "cells": [
  {
   "cell_type": "code",
   "execution_count": 26,
   "metadata": {},
   "outputs": [
    {
     "name": "stdout",
     "output_type": "stream",
     "text": [
      "loaded viv workspace\n"
     ]
    }
   ],
   "source": [
    "# Synthetically setup an IDAPython compatible environment\n",
    "import vivida.ida_vivida as vida\n",
    "import vivisect\n",
    "import os, sys\n",
    "\n",
    "vivida_dir = os.path.dirname(os.path.abspath(vida.__file__))\n",
    "if vivida_dir not in sys.path:\n",
    "    sys.path.append(vivida_dir)\n",
    "\n",
    "fn = r\"C:\\Users\\elias\\Tools\\Bins\\Wizmo64.exe\"\n",
    "viv_fn = fn + \".viv\"\n",
    "if not os.path.exists(viv_fn):\n",
    "    with open(fn, 'rb') as fd:\n",
    "        vw = vivisect.VivWorkspace()\n",
    "        vw.loadFromFd(fd)\n",
    "        vw.analyze()\n",
    "        vw.saveWorkspace(fullsave=True, filename=viv_fn)\n",
    "        print(\"analysis done\")\n",
    "else:\n",
    "    vw = vivisect.VivWorkspace()\n",
    "    vw.loadWorkspace(viv_fn)\n",
    "    print(\"loaded viv workspace\")\n",
    "vida.set_cwks(vw)"
   ]
  },
  {
   "cell_type": "code",
   "execution_count": 27,
   "metadata": {},
   "outputs": [
    {
     "data": {
      "text/plain": [
       "<module 'ida_bytes' from 'c:\\\\Users\\\\elias\\\\Projects\\\\github\\\\idaprojects\\\\vivida\\\\vivida\\\\ida_bytes.py'>"
      ]
     },
     "execution_count": 27,
     "metadata": {},
     "output_type": "execute_result"
    }
   ],
   "source": [
    "import importlib\n",
    "import idaapi, ida_bytes\n",
    "\n",
    "importlib.reload(idaapi)\n",
    "importlib.reload(ida_bytes)\n"
   ]
  },
  {
   "cell_type": "code",
   "execution_count": 28,
   "metadata": {},
   "outputs": [
    {
     "name": "stdout",
     "output_type": "stream",
     "text": [
      "Byte: 48\n",
      "Word: 8948\n",
      "Dword: 245c8948\n",
      "Qword: 8b485520245c8948\n",
      "Oword: 58b4820ec8348ec8b485520245c8948\n",
      "Bytes: 48895c242055488bec4883ec20488b05bc31000048bb32a2df2d992b0000483bc375744883651800488d4d18ff15c6110000488b451848\n"
     ]
    }
   ],
   "source": [
    "# Get bytes\n",
    "\n",
    "import idaapi\n",
    "\n",
    "ea = 0x140001e38\n",
    "print(f\"Byte: {idaapi.get_byte(ea):x}\")\n",
    "print(f\"Word: {idaapi.get_word(ea):x}\")\n",
    "print(f\"Dword: {idaapi.get_dword(ea):x}\")\n",
    "print(f\"Qword: {idaapi.get_qword(ea):x}\")\n",
    "print(f\"Oword: {idaapi.get_oword(ea):x}\")\n",
    "print(f\"Bytes: {idaapi.get_bytes(ea, 55).hex()}\")"
   ]
  },
  {
   "cell_type": "code",
   "execution_count": 29,
   "metadata": {},
   "outputs": [
    {
     "name": "stdout",
     "output_type": "stream",
     "text": [
      "Segment: PE_Header 140000000 1000 91e7ec57651be7dfe189f2bf1a7f90b6\n",
      "Segment: .text 140001000 1800 91e7ec57651be7dfe189f2bf1a7f90b6\n",
      "Segment: .rdata 140003000 1a00 91e7ec57651be7dfe189f2bf1a7f90b6\n",
      "Segment: .data 140005000 800 91e7ec57651be7dfe189f2bf1a7f90b6\n",
      "Segment: .pdata 140006000 400 91e7ec57651be7dfe189f2bf1a7f90b6\n",
      "Segment: .reloc 140008000 200 91e7ec57651be7dfe189f2bf1a7f90b6\n"
     ]
    }
   ],
   "source": [
    "# Get segments\n",
    "\n",
    "for start, size, name, filename in vw.getSegments():\n",
    "    print(f\"Segment: {name} {start:x} {size:x} {filename}\")"
   ]
  },
  {
   "cell_type": "code",
   "execution_count": 36,
   "metadata": {},
   "outputs": [
    {
     "name": "stdout",
     "output_type": "stream",
     "text": [
      "140001e38\n",
      "14000237c\n",
      "140001f08\n",
      "140001c24\n",
      "140002514\n",
      "140001be8\n",
      "14000259f\n",
      "140002599\n",
      "140001d94\n",
      "140001f40\n",
      "140001cfc\n",
      "140002630\n",
      "140001f48\n",
      "1400025cf\n",
      "140002593\n",
      "1400025bd\n",
      "1400025b7\n",
      "1400012a0\n",
      "140001690\n",
      "140002611\n",
      "140001b74\n",
      "140001a6c\n",
      "140001790\n",
      "140001000\n",
      "1400025ed\n",
      "1400025e7\n",
      "140002220\n",
      "14000256f\n",
      "140002328\n",
      "14000227c\n",
      "140002348\n",
      "1400016e8\n",
      "1400016f0\n",
      "14000254b\n",
      "1400010a0\n",
      "1400012b0\n",
      "1400020ac\n",
      "1400025c3\n",
      "140001db8\n",
      "1400025a5\n",
      "140001f50\n",
      "140001f58\n",
      "140001a14\n",
      "140001718\n",
      "1400016f8\n",
      "14000257b\n",
      "140001ef0\n",
      "1400025b1\n",
      "140001ee4\n",
      "1400025e1\n",
      "1400025f9\n",
      "140001c70\n",
      "14000216c\n",
      "140002605\n",
      "1400025ff\n",
      "140001de4\n",
      "140001e20\n",
      "140001ee8\n",
      "140002587\n",
      "140001ef8\n",
      "140001f34\n",
      "140002581\n",
      "140001f0c\n",
      "1400025d5\n",
      "14000258d\n",
      "1400020a4\n",
      "1400017b4\n",
      "140001f10\n",
      "140001f18\n",
      "14000186c\n",
      "140002100\n",
      "14000187c\n",
      "140001898\n",
      "140001a28\n",
      "140001aa0\n",
      "140002557\n",
      "14000255d\n",
      "14000260b\n",
      "140002110\n",
      "1400021a8\n",
      "140002563\n",
      "1400021e4\n",
      "140002240\n",
      "14000229c\n",
      "140002569\n",
      "1400022e4\n",
      "140002520\n",
      "140002575\n",
      "140002632\n",
      "140002650\n",
      "140002368\n",
      "140001e5b\n",
      "140001abe\n",
      "93\n"
     ]
    }
   ],
   "source": [
    "# Get functions\n",
    "funcs_ea = vw.getFunctions()\n",
    "for i, x in enumerate(funcs_ea):\n",
    "    print(f\"{x:x}\")\n",
    "\n",
    "print(len(funcs_ea))"
   ]
  },
  {
   "cell_type": "code",
   "execution_count": 31,
   "metadata": {},
   "outputs": [
    {
     "data": {
      "text/plain": [
       "'sub_140002368'"
      ]
     },
     "execution_count": 31,
     "metadata": {},
     "output_type": "execute_result"
    }
   ],
   "source": [
    "vw.getName(0x140002368)"
   ]
  },
  {
   "cell_type": "code",
   "execution_count": 32,
   "metadata": {},
   "outputs": [
    {
     "data": {
      "text/plain": [
       "72"
      ]
     },
     "execution_count": 32,
     "metadata": {},
     "output_type": "execute_result"
    }
   ],
   "source": [
    "vw.readMemory(0x140002368, 0x1)[0]\n"
   ]
  },
  {
   "cell_type": "code",
   "execution_count": 34,
   "metadata": {},
   "outputs": [],
   "source": [
    "vw.getComment(0x140002368)\n"
   ]
  },
  {
   "cell_type": "code",
   "execution_count": 35,
   "metadata": {},
   "outputs": [
    {
     "name": "stdout",
     "output_type": "stream",
     "text": [
      ">> some comment\n"
     ]
    }
   ],
   "source": [
    "vw.setComment(0x140002368, \"some comment\")\n",
    "print(\">>\", vw.getComment(0x140002368))\n",
    "\n"
   ]
  }
 ],
 "metadata": {
  "kernelspec": {
   "display_name": "Python 3",
   "language": "python",
   "name": "python3"
  },
  "language_info": {
   "codemirror_mode": {
    "name": "ipython",
    "version": 3
   },
   "file_extension": ".py",
   "mimetype": "text/x-python",
   "name": "python",
   "nbconvert_exporter": "python",
   "pygments_lexer": "ipython3",
   "version": "3.11.2"
  },
  "orig_nbformat": 4
 },
 "nbformat": 4,
 "nbformat_minor": 2
}
